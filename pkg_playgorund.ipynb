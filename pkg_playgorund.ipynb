{
 "cells": [
  {
   "cell_type": "code",
   "execution_count": 1,
   "metadata": {},
   "outputs": [],
   "source": [
    "import db_train_utils.db_train_utils as db_utils\n"
   ]
  },
  {
   "cell_type": "code",
   "execution_count": 2,
   "metadata": {},
   "outputs": [],
   "source": [
    "model_id = 'THC_0307.Rep-MICHELLE_0314'\n",
    "input_seq = 'atggtgatgcgtgcctgtaatcccagctactcaggaggctgaggcaggagaatcgcttgaacccaggaggcagaggttatagtgagctgagatcatgccactgcactccagcctggtaaacagagctacactccatctcaaaaaaaaaaaaaaaaaaaTGCAGTGCgtgtgtgtgtgtgtgtgtgtgtgtgtgtgNGCGCATGTGCATGCTTTGGAAGGAATCATACAAGTATGTAG'\n",
    "one_hot = db_utils.oneHot_encode(input_seq)\n",
    "# one_hot.shape\n",
    "# ib.predict_on_different_input_shape(model_id, one_hot)"
   ]
  },
  {
   "cell_type": "code",
   "execution_count": null,
   "metadata": {},
   "outputs": [],
   "source": []
  }
 ],
 "metadata": {
  "kernelspec": {
   "display_name": "deepBindEnv",
   "language": "python",
   "name": "python3"
  },
  "language_info": {
   "codemirror_mode": {
    "name": "ipython",
    "version": 3
   },
   "file_extension": ".py",
   "mimetype": "text/x-python",
   "name": "python",
   "nbconvert_exporter": "python",
   "pygments_lexer": "ipython3",
   "version": "3.9.18"
  }
 },
 "nbformat": 4,
 "nbformat_minor": 2
}
